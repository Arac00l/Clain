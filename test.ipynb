{
 "cells": [
  {
   "cell_type": "code",
   "execution_count": 1,
   "metadata": {},
   "outputs": [],
   "source": [
    "import  pandas as pd\n",
    "import numpy as np"
   ]
  },
  {
   "cell_type": "code",
   "execution_count": 2,
   "metadata": {},
   "outputs": [],
   "source": [
    "address_clust = pd.read_csv('address_clust.csv')\n",
    "address_stats = pd.read_csv('address_stats.csv')"
   ]
  },
  {
   "cell_type": "code",
   "execution_count": 3,
   "metadata": {},
   "outputs": [],
   "source": [
    "address_stats = pd.merge(address_stats, address_clust, on=['address_id'], how=\"left\")\n",
    "address_stats = address_stats.fillna(0)\n",
    "address_stats.drop_duplicates(inplace=True)"
   ]
  },
  {
   "cell_type": "code",
   "execution_count": 4,
   "metadata": {},
   "outputs": [],
   "source": [
    "# Записываем уникальные id всех транзакций \n",
    "transactions = address_stats.transaction_id.unique()"
   ]
  },
  {
   "cell_type": "markdown",
   "metadata": {},
   "source": [
    "Чтобы определить сколько биткоинов кластер 1 отправил в кластер 2, нужно рассмотреть каждую транзакцию отдельно.  \n",
    "В каждой транзакции берется сумма отправленных биткоинов с кластера 1 и сумма биткоинов, полученных на адреса кластера 2.  \n",
    "Из двух сумм выбирается минимум, т.к. не всё отправленное с первого кластера может попасть во второй и не всё зачисленное во второй кластер могло быть отправлено с первого.\n",
    "\n",
    "По аналогии рассчитываются другие ответы.\n",
    "\n",
    "Для расчета fee необходимо знать со скольки кластеров идет отправка биткоинов в каждой транзакции"
   ]
  },
  {
   "cell_type": "code",
   "execution_count": 5,
   "metadata": {},
   "outputs": [
    {
     "name": "stdout",
     "output_type": "stream",
     "text": [
      "Отправок с двух и более кластеров: 0\n"
     ]
    }
   ],
   "source": [
    "# Проверяем из скольки кластеров адресов в каждой транзакции происходит отправка\n",
    "num = 0\n",
    "for i in transactions:\n",
    "    x = len(address_stats[(address_stats.transaction_id == i) & (address_stats.sent > 0)].cluster_id.unique())\n",
    "    if x > 1:        \n",
    "        num += 1\n",
    "        \n",
    "print(f'Отправок с двух и более кластеров: {num}')"
   ]
  },
  {
   "cell_type": "markdown",
   "metadata": {},
   "source": [
    "Отправка в каждой транзакции происходит только с адресов одного кластера, поэтому рассчет fee будет не сложно реализовать"
   ]
  },
  {
   "cell_type": "code",
   "execution_count": null,
   "metadata": {},
   "outputs": [],
   "source": [
    "%%time\n",
    "c1_to_c2 = 0\n",
    "c2_to_c1 = 0\n",
    "c1_to_c0 = 0\n",
    "c0_to_c1 = 0\n",
    "c2_to_c0 = 0\n",
    "c0_to_c2 = 0\n",
    "fee1 = 0\n",
    "fee2 = 0\n",
    "\n",
    "for i in transactions:    \n",
    "    \n",
    "    sent_cluster_0 = address_stats[(address_stats.transaction_id == i) & \n",
    "                                   (address_stats.cluster_id == 0)].sent.sum()\n",
    "    sent_cluster_1 = address_stats[(address_stats.transaction_id == i) & \n",
    "                                   (address_stats.cluster_id == 1)].sent.sum()\n",
    "    sent_cluster_2 = address_stats[(address_stats.transaction_id == i) & \n",
    "                                   (address_stats.cluster_id == 2)].sent.sum()\n",
    "    received_cluster_0 = address_stats[(address_stats.transaction_id == i) & \n",
    "                                       (address_stats.cluster_id == 0)].received.sum()\n",
    "    received_cluster_1 = address_stats[(address_stats.transaction_id == i) & \n",
    "                                       (address_stats.cluster_id == 1)].received.sum()\n",
    "    received_cluster_2 = address_stats[(address_stats.transaction_id == i) & \n",
    "                                       (address_stats.cluster_id == 2)].received.sum()\n",
    "\n",
    "    c1_to_c2 += min(sent_cluster_1, received_cluster_2)\n",
    "    c2_to_c1 += min(sent_cluster_2, received_cluster_1)\n",
    "    c1_to_c0 += min(sent_cluster_1, received_cluster_0)\n",
    "    c0_to_c1 += min(sent_cluster_0, received_cluster_1)\n",
    "    c2_to_c0 += min(sent_cluster_2, received_cluster_0)\n",
    "    c0_to_c2 += min(sent_cluster_0, received_cluster_2)\n",
    "    \n",
    "    if sent_cluster_1 > 0:\n",
    "        fee1 += (sent_cluster_1 - address_stats[address_stats.transaction_id == i].received.sum())\n",
    "        \n",
    "    if sent_cluster_2 > 0:    \n",
    "        fee2 += (sent_cluster_2 - address_stats[address_stats.transaction_id == i].received.sum())\n",
    "    \n",
    "\n",
    "print(f'Кластер 1 отправил в кластер 2: {c1_to_c2 // 100000000} BTC')\n",
    "print(f'Кластер 2 отправил в кластер 1: {c2_to_c1 // 100000000} BTC')\n",
    "print(f'Кластер 1 отправил в кластер 0: {c1_to_c0 // 100000000} BTC')\n",
    "print(f'Кластер 0 отправил в кластер 1: {c0_to_c1 // 100000000} BTC')\n",
    "print(f'Кластер 2 отправил в кластер 0: {c2_to_c0 // 100000000} BTC')\n",
    "print(f'Кластер 0 отправил в кластер 2: {c0_to_c2 // 100000000} BTC')\n",
    "print(f'Кластер 1 потратил на fee: {fee1} satoshi')\n",
    "print(f'Кластер 2 потратил на fee: {fee2} satoshi')"
   ]
  },
  {
   "cell_type": "code",
   "execution_count": null,
   "metadata": {},
   "outputs": [],
   "source": []
  }
 ],
 "metadata": {
  "kernelspec": {
   "display_name": "Python 3",
   "language": "python",
   "name": "python3"
  },
  "language_info": {
   "codemirror_mode": {
    "name": "ipython",
    "version": 3
   },
   "file_extension": ".py",
   "mimetype": "text/x-python",
   "name": "python",
   "nbconvert_exporter": "python",
   "pygments_lexer": "ipython3",
   "version": "3.7.3"
  }
 },
 "nbformat": 4,
 "nbformat_minor": 2
}
